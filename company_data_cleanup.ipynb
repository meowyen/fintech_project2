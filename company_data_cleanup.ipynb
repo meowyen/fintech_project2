{
 "metadata": {
  "language_info": {
   "codemirror_mode": {
    "name": "ipython",
    "version": 3
   },
   "file_extension": ".py",
   "mimetype": "text/x-python",
   "name": "python",
   "nbconvert_exporter": "python",
   "pygments_lexer": "ipython3",
   "version": "3.7.7-final"
  },
  "orig_nbformat": 2,
  "kernelspec": {
   "name": "python3",
   "display_name": "Python 3.7.7 64-bit ('pyvizenv': conda)",
   "metadata": {
    "interpreter": {
     "hash": "2cddb1266474c6e3236a4948f30ede38573b58e27d5441cca3fae3200addc12b"
    }
   }
  }
 },
 "nbformat": 4,
 "nbformat_minor": 2,
 "cells": [
  {
   "cell_type": "code",
   "execution_count": 10,
   "metadata": {},
   "outputs": [
    {
     "output_type": "execute_result",
     "data": {
      "text/plain": [
       "True"
      ]
     },
     "metadata": {},
     "execution_count": 10
    }
   ],
   "source": [
    "from bs4 import BeautifulSoup\n",
    "from dotenv import load_dotenv\n",
    "import json\n",
    "from newsapi import NewsApiClient\n",
    "from nltk.corpus import reuters\n",
    "import os\n",
    "import pandas as pd\n",
    "from pathlib import Path\n",
    "import re\n",
    "import requests\n",
    "\n",
    "load_dotenv()"
   ]
  },
  {
   "source": [
    "## 2021 Global 100 - Most Sustainable Companies in the World\n",
    "\n"
   ],
   "cell_type": "markdown",
   "metadata": {}
  },
  {
   "cell_type": "code",
   "execution_count": 11,
   "metadata": {},
   "outputs": [
    {
     "output_type": "execute_result",
     "data": {
      "text/plain": [
       "   Rank 2021   Rank 2020                   Name  \\\n",
       "0           1       29.0  Schneider Electric SE   \n",
       "1           2        1.0             Orsted A/S   \n",
       "2           3        9.0     Banco do Brasil SA   \n",
       "3           4        3.0              Neste Oyj   \n",
       "4           5       57.0            Stantec Inc   \n",
       "\n",
       "                      Peer Group (CKIG) Peer Group Rank  Country  \\\n",
       "0              Industrial Conglomerates           #1/53   France   \n",
       "1                      Power Generation          #1/244  Denmark   \n",
       "2         Banks and Investment Services          #1/935   Brazil   \n",
       "3                             Oil & Gas          #1/347  Finland   \n",
       "4  Consulting and Professional Services           #1/23   Canada   \n",
       "\n",
       "   Energy Productivity  Energy Productivity Score  Carbon Productivity   \\\n",
       "0             $ 13,989                      96.0%             $ 90,981    \n",
       "1                $ 467                      39.7%              $ 5,361    \n",
       "2            $ 232,205                      72.0%            $ 851,966    \n",
       "3                $ 553                      76.6%              $ 7,765    \n",
       "4              $ 5,418                      20.8%             $ 64,411    \n",
       "\n",
       "  Carbon Productivity Score  ... CEO-Average Worker Pay ratio - Weight  \\\n",
       "0                     66.9%  ...                                    3%   \n",
       "1                     63.7%  ...                                    0%   \n",
       "2                     32.5%  ...                                    4%   \n",
       "3                     70.1%  ...                                    0%   \n",
       "4                     18.2%  ...                                   10%   \n",
       "\n",
       "  Clean Revenue - Weight Clean Investment - Weight Non-male on Board - Weight  \\\n",
       "0                    43%                        8%                         3%   \n",
       "1                    43%                        8%                         3%   \n",
       "2                    43%                        8%                         3%   \n",
       "3                    43%                        8%                         3%   \n",
       "4                    43%                        8%                         3%   \n",
       "\n",
       "  Non-male in Executive Management - Weight  \\\n",
       "0                                        3%   \n",
       "1                                        3%   \n",
       "2                                        3%   \n",
       "3                                        3%   \n",
       "4                                        3%   \n",
       "\n",
       "  Racial Diversity Among Executives - Weight  \\\n",
       "0                                         3%   \n",
       "1                                         3%   \n",
       "2                                         3%   \n",
       "3                                         3%   \n",
       "4                                         3%   \n",
       "\n",
       "  Racial Diversity on Board of Directors - Weight Paid Sick Leave  \\\n",
       "0                                              3%              3%   \n",
       "1                                              3%              3%   \n",
       "2                                              3%              3%   \n",
       "3                                              3%              3%   \n",
       "4                                              3%              3%   \n",
       "\n",
       "  Sustainability Paylink - Weight Supplier Score - Weight  \n",
       "0                              5%                      3%  \n",
       "1                              5%                      3%  \n",
       "2                              5%                      3%  \n",
       "3                              5%                      3%  \n",
       "4                              5%                      3%  \n",
       "\n",
       "[5 rows x 80 columns]"
      ],
      "text/html": "<div>\n<style scoped>\n    .dataframe tbody tr th:only-of-type {\n        vertical-align: middle;\n    }\n\n    .dataframe tbody tr th {\n        vertical-align: top;\n    }\n\n    .dataframe thead th {\n        text-align: right;\n    }\n</style>\n<table border=\"1\" class=\"dataframe\">\n  <thead>\n    <tr style=\"text-align: right;\">\n      <th></th>\n      <th>Rank 2021</th>\n      <th>Rank 2020</th>\n      <th>Name</th>\n      <th>Peer Group (CKIG)</th>\n      <th>Peer Group Rank</th>\n      <th>Country</th>\n      <th>Energy Productivity</th>\n      <th>Energy Productivity Score</th>\n      <th>Carbon Productivity</th>\n      <th>Carbon Productivity Score</th>\n      <th>...</th>\n      <th>CEO-Average Worker Pay ratio - Weight</th>\n      <th>Clean Revenue - Weight</th>\n      <th>Clean Investment - Weight</th>\n      <th>Non-male on Board - Weight</th>\n      <th>Non-male in Executive Management - Weight</th>\n      <th>Racial Diversity Among Executives - Weight</th>\n      <th>Racial Diversity on Board of Directors - Weight</th>\n      <th>Paid Sick Leave</th>\n      <th>Sustainability Paylink - Weight</th>\n      <th>Supplier Score - Weight</th>\n    </tr>\n  </thead>\n  <tbody>\n    <tr>\n      <th>0</th>\n      <td>1</td>\n      <td>29.0</td>\n      <td>Schneider Electric SE</td>\n      <td>Industrial Conglomerates</td>\n      <td>#1/53</td>\n      <td>France</td>\n      <td>$ 13,989</td>\n      <td>96.0%</td>\n      <td>$ 90,981</td>\n      <td>66.9%</td>\n      <td>...</td>\n      <td>3%</td>\n      <td>43%</td>\n      <td>8%</td>\n      <td>3%</td>\n      <td>3%</td>\n      <td>3%</td>\n      <td>3%</td>\n      <td>3%</td>\n      <td>5%</td>\n      <td>3%</td>\n    </tr>\n    <tr>\n      <th>1</th>\n      <td>2</td>\n      <td>1.0</td>\n      <td>Orsted A/S</td>\n      <td>Power Generation</td>\n      <td>#1/244</td>\n      <td>Denmark</td>\n      <td>$ 467</td>\n      <td>39.7%</td>\n      <td>$ 5,361</td>\n      <td>63.7%</td>\n      <td>...</td>\n      <td>0%</td>\n      <td>43%</td>\n      <td>8%</td>\n      <td>3%</td>\n      <td>3%</td>\n      <td>3%</td>\n      <td>3%</td>\n      <td>3%</td>\n      <td>5%</td>\n      <td>3%</td>\n    </tr>\n    <tr>\n      <th>2</th>\n      <td>3</td>\n      <td>9.0</td>\n      <td>Banco do Brasil SA</td>\n      <td>Banks and Investment Services</td>\n      <td>#1/935</td>\n      <td>Brazil</td>\n      <td>$ 232,205</td>\n      <td>72.0%</td>\n      <td>$ 851,966</td>\n      <td>32.5%</td>\n      <td>...</td>\n      <td>4%</td>\n      <td>43%</td>\n      <td>8%</td>\n      <td>3%</td>\n      <td>3%</td>\n      <td>3%</td>\n      <td>3%</td>\n      <td>3%</td>\n      <td>5%</td>\n      <td>3%</td>\n    </tr>\n    <tr>\n      <th>3</th>\n      <td>4</td>\n      <td>3.0</td>\n      <td>Neste Oyj</td>\n      <td>Oil &amp; Gas</td>\n      <td>#1/347</td>\n      <td>Finland</td>\n      <td>$ 553</td>\n      <td>76.6%</td>\n      <td>$ 7,765</td>\n      <td>70.1%</td>\n      <td>...</td>\n      <td>0%</td>\n      <td>43%</td>\n      <td>8%</td>\n      <td>3%</td>\n      <td>3%</td>\n      <td>3%</td>\n      <td>3%</td>\n      <td>3%</td>\n      <td>5%</td>\n      <td>3%</td>\n    </tr>\n    <tr>\n      <th>4</th>\n      <td>5</td>\n      <td>57.0</td>\n      <td>Stantec Inc</td>\n      <td>Consulting and Professional Services</td>\n      <td>#1/23</td>\n      <td>Canada</td>\n      <td>$ 5,418</td>\n      <td>20.8%</td>\n      <td>$ 64,411</td>\n      <td>18.2%</td>\n      <td>...</td>\n      <td>10%</td>\n      <td>43%</td>\n      <td>8%</td>\n      <td>3%</td>\n      <td>3%</td>\n      <td>3%</td>\n      <td>3%</td>\n      <td>3%</td>\n      <td>5%</td>\n      <td>3%</td>\n    </tr>\n  </tbody>\n</table>\n<p>5 rows × 80 columns</p>\n</div>"
     },
     "metadata": {},
     "execution_count": 11
    }
   ],
   "source": [
    "# Read Global 100 companies CSV file\n",
    "global100_filepath = Path(\"data/2021-Global-100.csv\")\n",
    "global100_df = pd.read_csv(global100_filepath)\n",
    "global100_df.head()"
   ]
  },
  {
   "cell_type": "code",
   "execution_count": 12,
   "metadata": {},
   "outputs": [],
   "source": [
    "# Drop empty column\n",
    "global100_df.drop(columns=[\"Unnamed: 56\"], inplace=True)\n",
    "\n",
    "# Trim whitespaces from column names\n",
    "global100_df.columns = [re.sub(\"\\s+\", \" \", col.strip()) for col in global100_df.columns]"
   ]
  },
  {
   "cell_type": "code",
   "execution_count": 13,
   "metadata": {},
   "outputs": [],
   "source": [
    "# Convert some columns to numeric\n",
    "numeric_column_names = [\"Energy Productivity\", \"Carbon Productivity\", \"Water Productivity\", \"Waste Productivity\", \"VOC Productivity\", \"NOx Productivity\", \"SOx Productivity\", \"PM Productivity\", \"Retirement contributions/FTE\", \"Fair value of plan assets/FTE\", \"Energy Productivity Score\", \"Carbon Productivity Score\", \"Water Productivity Score\", \"Waste Productivity Score\", \"VOC Productivity Score\", \"NOx Productivity Score\", \"SOx Productivity Score\", \"PM Productivity Score\", \"% Taxes Paid\", \"% Taxes Paid Score\", \"% Clean Revenues\", \"Clean Revenue Score\", \"% Clean Investment\", \"Clean Investment Score\", \"CEO-Average Worker Pay Score\", \"Retirement contributions/FTE Score\", \"Fair value of plan assets/FTE Score\", \"Fair value/projected benefit obligation Percent\", \"Fair value/projected benefit obligation Score\", \"Pension Fund Status\", \"Lost-time Injury Rate Score\", \"Fatalities per FTE employee Score\", \"Employee Turnover Rate\", \"Employee Turnover Score\", \"% Non-male on Board\", \"% Non-male on Board Score\", \"% Non-male Senior Executives\", \"% Non-male Senior Executives Score\", \"% Racial Diversity Among Boards\", \"% Racial Diversity Among Board Score\", \"% Racial Diversity Among Executives\", \"% Racial Diversity Among Executives Score\", \"Paid Sick Leave Score\", \"Sustainability Paylink Score\", \"Supplier Score\", \"Fines deduction\", \"Overall Score\", \"Energy Productivity - Weight\", \"Carbon Productivity - Weight\", \"Water Productivity - Weight\", \"Waste Productivity - Weight\", \"Injuries - Weight\", \"Fatalities - Weight\", \"Employee turnover - Weight\", \"VOC Productivity - Weight\", \"NOX Productivity - Weight\", \"SOX Productivity - Weight\", \"PM Productivity - Weight\", \"Pension Fund Status - Weight\", \"Cash taxes paid ratio - Weight\", \"CEO-Average Worker Pay ratio - Weight\", \"Clean Revenue - Weight\", \"Clean Investment - Weight\", \"Non-male on Board - Weight\", \"Non-male in Executive Management - Weight\", \"Racial Diversity Among Executives - Weight\", \"Racial Diversity on Board of Directors - Weight\", \"Paid Sick Leave\", \"Sustainability Paylink - Weight\", \"Supplier Score - Weight\", \"Lost-time Injury Rate\", \"Fatalities per FTE employee\"]\n",
    "\n",
    "for column_name in numeric_column_names:\n",
    "    global100_df[column_name] = global100_df[column_name].replace(to_replace=\"[^\\d.]+\", value=\"\", regex=True)\n",
    "    global100_df[column_name] = pd.to_numeric(global100_df[column_name], errors=\"coerce\")"
   ]
  },
  {
   "cell_type": "code",
   "execution_count": 14,
   "metadata": {},
   "outputs": [],
   "source": [
    "# Convert ratio column\n",
    "global100_df[\"CEO-Average Worker Pay Ratio\"] = pd.to_numeric(global100_df[\"CEO-Average Worker Pay Ratio\"].apply(lambda v: v.split(\":\")[0]), errors=\"coerce\")"
   ]
  },
  {
   "cell_type": "code",
   "execution_count": 15,
   "metadata": {},
   "outputs": [],
   "source": [
    "# Split peer group rank column into 2\n",
    "global100_df[\"Peer Group Rank Total\"] = pd.to_numeric(global100_df[\"Peer Group Rank\"].apply(lambda v: v.split(\"/\")[1]), errors=\"coerce\")\n",
    "global100_df[\"Peer Group Rank\"] = pd.to_numeric(global100_df[\"Peer Group Rank\"].apply(lambda v: v.split(\"/\")[0].replace(\"#\", \"\")), errors=\"coerce\")"
   ]
  },
  {
   "source": [
    "## 2020 Fortune's Change the World List\n",
    "\n",
    "Top businesses changing the world"
   ],
   "cell_type": "markdown",
   "metadata": {}
  },
  {
   "cell_type": "code",
   "execution_count": 16,
   "metadata": {},
   "outputs": [],
   "source": [
    "# read JSON file\n",
    "change_the_world_2020_filepath = Path(\"data/change_the_world_2020.json\")\n",
    "with open(change_the_world_2020_filepath, \"r\") as datafile:\n",
    "    data = datafile.read()\n",
    "\n",
    "json_data = json.loads(data)\n",
    "\n",
    "rows = []\n",
    "for item in json_data:\n",
    "    obj = {}\n",
    "    for field in item[\"fields\"]:\n",
    "        obj[field[\"key\"]] = field[\"value\"]\n",
    "    rows.append(obj)\n",
    "\n",
    "change_the_world_2020_df = pd.DataFrame(rows)\n",
    "\n",
    "# Export to CSV\n",
    "change_the_world_2020_output_filepath = Path(\"data/change_the_world_2020.csv\")\n",
    "change_the_world_2020_df.to_csv(change_the_world_2020_output_filepath, index=False)"
   ]
  }
 ]
}