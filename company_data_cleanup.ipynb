{
 "metadata": {
  "language_info": {
   "codemirror_mode": {
    "name": "ipython",
    "version": 3
   },
   "file_extension": ".py",
   "mimetype": "text/x-python",
   "name": "python",
   "nbconvert_exporter": "python",
   "pygments_lexer": "ipython3",
   "version": "3.7.7-final"
  },
  "orig_nbformat": 2,
  "kernelspec": {
   "name": "python3",
   "display_name": "Python 3.7.7 64-bit ('pyvizenv': conda)",
   "metadata": {
    "interpreter": {
     "hash": "2cddb1266474c6e3236a4948f30ede38573b58e27d5441cca3fae3200addc12b"
    }
   }
  }
 },
 "nbformat": 4,
 "nbformat_minor": 2,
 "cells": [
  {
   "cell_type": "code",
   "execution_count": 51,
   "metadata": {},
   "outputs": [
    {
     "output_type": "execute_result",
     "data": {
      "text/plain": [
       "True"
      ]
     },
     "metadata": {},
     "execution_count": 51
    }
   ],
   "source": [
    "from bs4 import BeautifulSoup\n",
    "from dotenv import load_dotenv\n",
    "import json\n",
    "from newsapi import NewsApiClient\n",
    "from nltk.corpus import reuters\n",
    "import os\n",
    "import pandas as pd\n",
    "from pathlib import Path\n",
    "import re\n",
    "import requests\n",
    "\n",
    "load_dotenv()"
   ]
  },
  {
   "source": [
    "## 2021 Global 100 - Most Sustainable Companies in the World\n",
    "\n"
   ],
   "cell_type": "markdown",
   "metadata": {}
  },
  {
   "cell_type": "code",
   "execution_count": 23,
   "metadata": {},
   "outputs": [
    {
     "output_type": "execute_result",
     "data": {
      "text/plain": [
       "   Rank 2021   Rank 2020                   Name  \\\n",
       "0           1       29.0  Schneider Electric SE   \n",
       "1           2        1.0             Orsted A/S   \n",
       "2           3        9.0     Banco do Brasil SA   \n",
       "3           4        3.0              Neste Oyj   \n",
       "4           5       57.0            Stantec Inc   \n",
       "\n",
       "                      Peer Group (CKIG) Peer Group Rank  Country  \\\n",
       "0              Industrial Conglomerates           #1/53   France   \n",
       "1                      Power Generation          #1/244  Denmark   \n",
       "2         Banks and Investment Services          #1/935   Brazil   \n",
       "3                             Oil & Gas          #1/347  Finland   \n",
       "4  Consulting and Professional Services           #1/23   Canada   \n",
       "\n",
       "   Energy Productivity  Energy Productivity Score  Carbon Productivity   \\\n",
       "0             $ 13,989                      96.0%             $ 90,981    \n",
       "1                $ 467                      39.7%              $ 5,361    \n",
       "2            $ 232,205                      72.0%            $ 851,966    \n",
       "3                $ 553                      76.6%              $ 7,765    \n",
       "4              $ 5,418                      20.8%             $ 64,411    \n",
       "\n",
       "  Carbon Productivity Score  ... CEO-Average Worker Pay ratio - Weight  \\\n",
       "0                     66.9%  ...                                    3%   \n",
       "1                     63.7%  ...                                    0%   \n",
       "2                     32.5%  ...                                    4%   \n",
       "3                     70.1%  ...                                    0%   \n",
       "4                     18.2%  ...                                   10%   \n",
       "\n",
       "  Clean Revenue - Weight Clean Investment - Weight Non-male on Board - Weight  \\\n",
       "0                    43%                        8%                         3%   \n",
       "1                    43%                        8%                         3%   \n",
       "2                    43%                        8%                         3%   \n",
       "3                    43%                        8%                         3%   \n",
       "4                    43%                        8%                         3%   \n",
       "\n",
       "  Non-male in Executive Management - Weight  \\\n",
       "0                                        3%   \n",
       "1                                        3%   \n",
       "2                                        3%   \n",
       "3                                        3%   \n",
       "4                                        3%   \n",
       "\n",
       "  Racial Diversity Among Executives - Weight  \\\n",
       "0                                         3%   \n",
       "1                                         3%   \n",
       "2                                         3%   \n",
       "3                                         3%   \n",
       "4                                         3%   \n",
       "\n",
       "  Racial Diversity on Board of Directors - Weight Paid Sick Leave  \\\n",
       "0                                              3%              3%   \n",
       "1                                              3%              3%   \n",
       "2                                              3%              3%   \n",
       "3                                              3%              3%   \n",
       "4                                              3%              3%   \n",
       "\n",
       "  Sustainability Paylink - Weight Supplier Score - Weight  \n",
       "0                              5%                      3%  \n",
       "1                              5%                      3%  \n",
       "2                              5%                      3%  \n",
       "3                              5%                      3%  \n",
       "4                              5%                      3%  \n",
       "\n",
       "[5 rows x 80 columns]"
      ],
      "text/html": "<div>\n<style scoped>\n    .dataframe tbody tr th:only-of-type {\n        vertical-align: middle;\n    }\n\n    .dataframe tbody tr th {\n        vertical-align: top;\n    }\n\n    .dataframe thead th {\n        text-align: right;\n    }\n</style>\n<table border=\"1\" class=\"dataframe\">\n  <thead>\n    <tr style=\"text-align: right;\">\n      <th></th>\n      <th>Rank 2021</th>\n      <th>Rank 2020</th>\n      <th>Name</th>\n      <th>Peer Group (CKIG)</th>\n      <th>Peer Group Rank</th>\n      <th>Country</th>\n      <th>Energy Productivity</th>\n      <th>Energy Productivity Score</th>\n      <th>Carbon Productivity</th>\n      <th>Carbon Productivity Score</th>\n      <th>...</th>\n      <th>CEO-Average Worker Pay ratio - Weight</th>\n      <th>Clean Revenue - Weight</th>\n      <th>Clean Investment - Weight</th>\n      <th>Non-male on Board - Weight</th>\n      <th>Non-male in Executive Management - Weight</th>\n      <th>Racial Diversity Among Executives - Weight</th>\n      <th>Racial Diversity on Board of Directors - Weight</th>\n      <th>Paid Sick Leave</th>\n      <th>Sustainability Paylink - Weight</th>\n      <th>Supplier Score - Weight</th>\n    </tr>\n  </thead>\n  <tbody>\n    <tr>\n      <th>0</th>\n      <td>1</td>\n      <td>29.0</td>\n      <td>Schneider Electric SE</td>\n      <td>Industrial Conglomerates</td>\n      <td>#1/53</td>\n      <td>France</td>\n      <td>$ 13,989</td>\n      <td>96.0%</td>\n      <td>$ 90,981</td>\n      <td>66.9%</td>\n      <td>...</td>\n      <td>3%</td>\n      <td>43%</td>\n      <td>8%</td>\n      <td>3%</td>\n      <td>3%</td>\n      <td>3%</td>\n      <td>3%</td>\n      <td>3%</td>\n      <td>5%</td>\n      <td>3%</td>\n    </tr>\n    <tr>\n      <th>1</th>\n      <td>2</td>\n      <td>1.0</td>\n      <td>Orsted A/S</td>\n      <td>Power Generation</td>\n      <td>#1/244</td>\n      <td>Denmark</td>\n      <td>$ 467</td>\n      <td>39.7%</td>\n      <td>$ 5,361</td>\n      <td>63.7%</td>\n      <td>...</td>\n      <td>0%</td>\n      <td>43%</td>\n      <td>8%</td>\n      <td>3%</td>\n      <td>3%</td>\n      <td>3%</td>\n      <td>3%</td>\n      <td>3%</td>\n      <td>5%</td>\n      <td>3%</td>\n    </tr>\n    <tr>\n      <th>2</th>\n      <td>3</td>\n      <td>9.0</td>\n      <td>Banco do Brasil SA</td>\n      <td>Banks and Investment Services</td>\n      <td>#1/935</td>\n      <td>Brazil</td>\n      <td>$ 232,205</td>\n      <td>72.0%</td>\n      <td>$ 851,966</td>\n      <td>32.5%</td>\n      <td>...</td>\n      <td>4%</td>\n      <td>43%</td>\n      <td>8%</td>\n      <td>3%</td>\n      <td>3%</td>\n      <td>3%</td>\n      <td>3%</td>\n      <td>3%</td>\n      <td>5%</td>\n      <td>3%</td>\n    </tr>\n    <tr>\n      <th>3</th>\n      <td>4</td>\n      <td>3.0</td>\n      <td>Neste Oyj</td>\n      <td>Oil &amp; Gas</td>\n      <td>#1/347</td>\n      <td>Finland</td>\n      <td>$ 553</td>\n      <td>76.6%</td>\n      <td>$ 7,765</td>\n      <td>70.1%</td>\n      <td>...</td>\n      <td>0%</td>\n      <td>43%</td>\n      <td>8%</td>\n      <td>3%</td>\n      <td>3%</td>\n      <td>3%</td>\n      <td>3%</td>\n      <td>3%</td>\n      <td>5%</td>\n      <td>3%</td>\n    </tr>\n    <tr>\n      <th>4</th>\n      <td>5</td>\n      <td>57.0</td>\n      <td>Stantec Inc</td>\n      <td>Consulting and Professional Services</td>\n      <td>#1/23</td>\n      <td>Canada</td>\n      <td>$ 5,418</td>\n      <td>20.8%</td>\n      <td>$ 64,411</td>\n      <td>18.2%</td>\n      <td>...</td>\n      <td>10%</td>\n      <td>43%</td>\n      <td>8%</td>\n      <td>3%</td>\n      <td>3%</td>\n      <td>3%</td>\n      <td>3%</td>\n      <td>3%</td>\n      <td>5%</td>\n      <td>3%</td>\n    </tr>\n  </tbody>\n</table>\n<p>5 rows × 80 columns</p>\n</div>"
     },
     "metadata": {},
     "execution_count": 23
    }
   ],
   "source": [
    "# Read Global 100 companies CSV file\n",
    "global100_filepath = Path(\"data/2021-Global-100.csv\")\n",
    "global100_df = pd.read_csv(global100_filepath)\n",
    "global100_df.head()"
   ]
  },
  {
   "cell_type": "code",
   "execution_count": 24,
   "metadata": {},
   "outputs": [],
   "source": [
    "# Drop empty column\n",
    "global100_df.drop(columns=[\"Unnamed: 56\"], inplace=True)\n",
    "\n",
    "# Trim whitespaces from column names\n",
    "global100_df.columns = [re.sub(\"\\s+\", \" \", col.strip()) for col in global100_df.columns]"
   ]
  },
  {
   "cell_type": "code",
   "execution_count": 25,
   "metadata": {},
   "outputs": [],
   "source": [
    "# Convert some columns to numeric\n",
    "numeric_column_names = [\"Energy Productivity\", \"Carbon Productivity\", \"Water Productivity\", \"Waste Productivity\", \"VOC Productivity\", \"NOx Productivity\", \"SOx Productivity\", \"PM Productivity\", \"Retirement contributions/FTE\", \"Fair value of plan assets/FTE\", \"Energy Productivity Score\", \"Carbon Productivity Score\", \"Water Productivity Score\", \"Waste Productivity Score\", \"VOC Productivity Score\", \"NOx Productivity Score\", \"SOx Productivity Score\", \"PM Productivity Score\", \"% Taxes Paid\", \"% Taxes Paid Score\", \"% Clean Revenues\", \"Clean Revenue Score\", \"% Clean Investment\", \"Clean Investment Score\", \"CEO-Average Worker Pay Score\", \"Retirement contributions/FTE Score\", \"Fair value of plan assets/FTE Score\", \"Fair value/projected benefit obligation Percent\", \"Fair value/projected benefit obligation Score\", \"Pension Fund Status\", \"Lost-time Injury Rate Score\", \"Fatalities per FTE employee Score\", \"Employee Turnover Rate\", \"Employee Turnover Score\", \"% Non-male on Board\", \"% Non-male on Board Score\", \"% Non-male Senior Executives\", \"% Non-male Senior Executives Score\", \"% Racial Diversity Among Boards\", \"% Racial Diversity Among Board Score\", \"% Racial Diversity Among Executives\", \"% Racial Diversity Among Executives Score\", \"Paid Sick Leave Score\", \"Sustainability Paylink Score\", \"Supplier Score\", \"Fines deduction\", \"Overall Score\", \"Energy Productivity - Weight\", \"Carbon Productivity - Weight\", \"Water Productivity - Weight\", \"Waste Productivity - Weight\", \"Injuries - Weight\", \"Fatalities - Weight\", \"Employee turnover - Weight\", \"VOC Productivity - Weight\", \"NOX Productivity - Weight\", \"SOX Productivity - Weight\", \"PM Productivity - Weight\", \"Pension Fund Status - Weight\", \"Cash taxes paid ratio - Weight\", \"CEO-Average Worker Pay ratio - Weight\", \"Clean Revenue - Weight\", \"Clean Investment - Weight\", \"Non-male on Board - Weight\", \"Non-male in Executive Management - Weight\", \"Racial Diversity Among Executives - Weight\", \"Racial Diversity on Board of Directors - Weight\", \"Paid Sick Leave\", \"Sustainability Paylink - Weight\", \"Supplier Score - Weight\", \"Lost-time Injury Rate\", \"Fatalities per FTE employee\"]\n",
    "\n",
    "for column_name in numeric_column_names:\n",
    "    global100_df[column_name] = global100_df[column_name].replace(to_replace=\"[^\\d.]+\", value=\"\", regex=True)\n",
    "    global100_df[column_name] = pd.to_numeric(global100_df[column_name], errors=\"coerce\")"
   ]
  },
  {
   "cell_type": "code",
   "execution_count": 26,
   "metadata": {},
   "outputs": [],
   "source": [
    "# Convert ratio column\n",
    "global100_df[\"CEO-Average Worker Pay Ratio\"] = pd.to_numeric(global100_df[\"CEO-Average Worker Pay Ratio\"].apply(lambda v: v.split(\":\")[0]), errors=\"coerce\")"
   ]
  },
  {
   "cell_type": "code",
   "execution_count": 27,
   "metadata": {},
   "outputs": [],
   "source": [
    "# Split peer group rank column into 2\n",
    "global100_df[\"Peer Group Rank Total\"] = pd.to_numeric(global100_df[\"Peer Group Rank\"].apply(lambda v: v.split(\"/\")[1]), errors=\"coerce\")\n",
    "global100_df[\"Peer Group Rank\"] = pd.to_numeric(global100_df[\"Peer Group Rank\"].apply(lambda v: v.split(\"/\")[0].replace(\"#\", \"\")), errors=\"coerce\")"
   ]
  },
  {
   "cell_type": "code",
   "execution_count": 28,
   "metadata": {},
   "outputs": [],
   "source": [
    "# Export cleaned data to CSV\n",
    "global100_output_filepath = Path(\"data/global100_2021.csv\")\n",
    "global100_df.to_csv(global100_output_filepath, index=False)"
   ]
  },
  {
   "source": [
    "## 2020 Fortune's Change the World List\n",
    "\n",
    "Top businesses changing the world"
   ],
   "cell_type": "markdown",
   "metadata": {}
  },
  {
   "cell_type": "code",
   "execution_count": 29,
   "metadata": {},
   "outputs": [],
   "source": [
    "# read JSON file\n",
    "change_the_world_2020_filepath = Path(\"data/change_the_world_2020.json\")\n",
    "with open(change_the_world_2020_filepath, \"r\") as datafile:\n",
    "    data = datafile.read()\n",
    "\n",
    "json_data = json.loads(data)\n",
    "\n",
    "rows = []\n",
    "for item in json_data:\n",
    "    obj = {}\n",
    "    for field in item[\"fields\"]:\n",
    "        obj[field[\"key\"]] = field[\"value\"]\n",
    "    rows.append(obj)\n",
    "\n",
    "change_the_world_2020_df = pd.DataFrame(rows)\n",
    "\n",
    "# Export to CSV\n",
    "change_the_world_2020_output_filepath = Path(\"data/change_the_world_2020.csv\")\n",
    "change_the_world_2020_df.to_csv(change_the_world_2020_output_filepath, index=False)"
   ]
  },
  {
   "source": [
    "## Finding Stock Tickers by Company Name"
   ],
   "cell_type": "markdown",
   "metadata": {}
  },
  {
   "cell_type": "code",
   "execution_count": 57,
   "metadata": {},
   "outputs": [],
   "source": [
    "tradier_lookup_url = \"https://sandbox.tradier.com/v1/markets/search\"\n",
    "tradier_access_token = os.getenv(\"TRADIER_ACCESS_TOKEN\")\n",
    "headers = {\"Accept\": \"application/json\", \"Authorization\" : f\"Bearer {tradier_access_token}\"}\n",
    "\n",
    "def get_matching_tickers(q):\n",
    "    \"\"\"\n",
    "    Return the list of matching tickers for query term.\n",
    "    \"\"\"\n",
    "\n",
    "    query_terms = q.split(\" \")\n",
    "    num_terms = len(query_terms)\n",
    "    params = {\"q\": q, \"lang\": \"en\"}\n",
    "\n",
    "    response = requests.get(tradier_lookup_url, headers=headers, params=params)\n",
    "    response.raise_for_status()\n",
    "    quotes = response.json()[\"securities\"]\n",
    "\n",
    "    # No matching results\n",
    "    if quotes is None:\n",
    "        if num_terms > 1:\n",
    "            return get_matching_tickers(\" \".join(query_terms[:num_terms-1]))\n",
    "        else:\n",
    "            return None\n",
    "\n",
    "    quotes = quotes[\"security\"]\n",
    "    if isinstance(quotes, list):\n",
    "        if len(quotes) > 0:\n",
    "            return quotes[0]\n",
    "        return None\n",
    "    elif isinstance(quotes, dict):\n",
    "        return quotes\n",
    "    \n",
    "    return None"
   ]
  },
  {
   "source": [
    "### 2020 Change the World Stock Tickers"
   ],
   "cell_type": "markdown",
   "metadata": {}
  },
  {
   "cell_type": "code",
   "execution_count": 61,
   "metadata": {},
   "outputs": [
    {
     "output_type": "stream",
     "name": "stdout",
     "text": [
      "Royal Bank of Canada: RY\n",
      "Qualcomm: QCOM\n",
      "Medtronic: MDT\n",
      "Henry Schein: HSIC\n",
      "Colgate-Palmolive: CL\n",
      "Centene: CNC\n",
      "Anheuser-Busch InBev: BUD\n",
      "Alibaba Group Holding: BABA\n",
      "Advanced Micro Devices (AMD): AMD\n",
      "PayPal Holdings: PYPL\n",
      "Bank of America: BAC\n",
      "Abbott Laboratories: ABT\n",
      "Mastercard: MA\n",
      "Adobe: ADBE\n",
      "Nvidia: NVDA\n",
      "Merck: MRK\n",
      "UPS: UPST\n",
      "BlackRock: ICSH\n",
      "Salesforce: CRM\n",
      "Walmart: WMT\n",
      "Alphabet: GOOGL\n",
      "Microsoft: MSFT\n",
      "Regeneron Pharmaceuticals: REGN\n",
      "The Vaccine Makers: KHC\n",
      "Zoom: ZM\n",
      "     !!Safaricom: Ticker not found\n",
      "     !!Serum Institute of India: Ticker not found\n",
      "     !!Mondragon: Ticker not found\n",
      "Grupo Energía Bogotá: SUPV\n",
      "Skanska: SKBSY\n",
      "     !!Minority-Owned Banks: Ticker not found\n",
      "     !!Jio Platforms: Ticker not found\n",
      "     !!East-West Seed: Ticker not found\n",
      "Pearson: PSO\n",
      "     !!Zutari: Ticker not found\n",
      "Lineage Logistics: LCTX\n",
      "Green Monday Group: GTEC\n",
      "     !!Udemy: Ticker not found\n",
      "     !!Grab: Ticker not found\n",
      "     !!Footprint: Ticker not found\n",
      "Cemex: CX\n",
      "Ushio: UHOIF\n",
      "     !!Ørsted: Ticker not found\n",
      "Natura: NTCO\n",
      "African Bank: AGAC/U\n",
      "Nio: NIO\n",
      "     !!Jordan Ahli Bank: Ticker not found\n",
      "     !!ChenMed: Ticker not found\n",
      "SSAB: SSAAY\n",
      "Corteva: CTVA\n",
      "BD: BDOUF\n",
      "Williams-Sonoma: WSM\n",
      "Ping An Insurance: PANHF\n"
     ]
    }
   ],
   "source": [
    "change_the_world_2020_filepath = Path(\"data/change_the_world_2020.csv\")\n",
    "change_the_world_2020_df = pd.read_csv(change_the_world_2020_filepath)\n",
    "\n",
    "change_the_world_2020_tickers = []\n",
    "for name in change_the_world_2020_df[\"name\"].values:\n",
    "    result = get_matching_tickers(name)\n",
    "    if result is None:\n",
    "        change_the_world_2020_tickers.append(None)\n",
    "        print(f\"     !!{name}: Ticker not found\")\n",
    "    else:\n",
    "        ticker = result[\"symbol\"]\n",
    "        change_the_world_2020_tickers.append(ticker)\n",
    "        print(f\"{name}: {ticker}\")\n",
    "\n",
    "change_the_world_2020_df[\"Ticker\"] = change_the_world_2020_tickers\n",
    "\n",
    "# Export to CSV\n",
    "change_the_world_2020_output_filepath = Path(\"data/change_the_world_2020.csv\")\n",
    "change_the_world_2020_df.to_csv(change_the_world_2020_output_filepath, index=False)"
   ]
  },
  {
   "source": [
    "### 2021 Global 100 Stock Tickers"
   ],
   "cell_type": "markdown",
   "metadata": {}
  },
  {
   "cell_type": "code",
   "execution_count": 62,
   "metadata": {},
   "outputs": [
    {
     "output_type": "stream",
     "name": "stdout",
     "text": [
      "Schneider Electric SE: SBGSF\n",
      "Orsted A/S: DOGEF\n",
      "Banco do Brasil SA: BDORY\n",
      "Neste Oyj: NTOIY\n",
      "Stantec Inc: STN\n",
      "McCormick & Company Inc: MKC\n",
      "Kering SA: PPRUF\n",
      "Metso Outotec: OUKPY\n",
      "American Water Works Company Inc: AWK\n",
      "Canadian National Railway Co: CNI\n",
      "Rexel SA: RXEEY\n",
      "Atlantica Sustainable Infrastructure PLC: AY\n",
      "Cisco Systems Inc: CSCO\n",
      "Storebrand ASA: SREDY\n",
      "Owens Corning: OC\n",
      "Eisai Co Ltd: ESALF\n",
      "Cascades Inc: CADNF\n",
      "Brambles Ltd: BXBLY\n",
      "Iberdrola SA: IBDSF\n",
      "Taiwan Semiconductor Manufacturing Co Ltd: TSM\n",
      "Vestas Wind Systems A/S: VWDRY\n",
      "UPM-Kymmene Oyj: UPMKY\n",
      "Osram Licht AG: OSAGF\n",
      "Chr Hansen Holding A/S: CHYHY\n",
      "Siemens AG: SMAWF\n",
      "Trane Technologies PLC: TT\n",
      "Verbund AG: OEZVF\n",
      "Akzo Nobel NV: AKZOF\n",
      "IGM Financial Inc: IGIFF\n",
      "Hewlett Packard Enterprise Co: HPE\n",
      "Acciona SA: ACXIF\n",
      "Sysmex Corp: SSMXF\n",
      "ABB Ltd: ABB\n",
      "Arcelik AS: ACKAY\n",
      "BT Group PLC: BTGOF\n",
      "Novozymes A/S: NVZMY\n",
      "ING Groep NV: INGVF\n",
      "Johnson Controls International PLC: JCI\n",
      "Alstom SA: AOMFF\n",
      "City Developments Ltd: CDEVF\n",
      "Konica Minolta Inc: KNCAF\n",
      "Natura &Co Holding SA: NTCO\n",
      "Autodesk Inc: ADSK\n",
      "National Australia Bank Ltd: FIZZ\n",
      "Transcontinental Inc: TCI\n",
      "BNP Paribas SA: BNPQY\n",
      "Bank of Montreal: BMO\n",
      "Ball Corp: BLL\n",
      "Allianz SE: AZSEY\n",
      "HP Inc: HPQ\n",
      "Sekisui Chemical Co Ltd: SKSUF\n",
      "Comerica Inc: CMA\n",
      "Standard Bank Group Ltd: SBGOF\n",
      "Telus Corp: TU\n",
      "Dassault Systèmes SE: DASTY\n",
      "Intesa Sanpaolo SpA: IITOF\n",
      "Sims Metal Management Ltd: SMUPF\n",
      "Capitaland Ltd: CLLDY\n",
      "Intel Corp: INTC\n",
      "Samsung SDI Co Ltd: SSDIF\n",
      "Accenture PLC: ACN\n",
      "Vitasoy International Holdings Ltd: VTSYF\n",
      "Essity AB: ESSYY\n",
      "CNP Assurances SA: CNPAY\n",
      "Sanofi SA: SNY\n",
      "Valeo SA: VLEEF\n",
      "Commerzbank AG: CRZBF\n",
      "Cogeco Communications Inc: CGEAF\n",
      "Sun Life Financial Inc: SLF\n",
      "Xerox Holdings Corp: XRX\n",
      "Takeda Pharmaceutical Co Ltd: TKPYY\n",
      "Tech Mahindra Ltd: FTI\n",
      "Agnico Eagle Mines Ltd: AEM\n",
      "Analog Devices Inc: ADI\n",
      "Pearson PLC: PSORF\n",
      "Adidas AG: ADDYY\n",
      "Prologis Inc: PLD\n",
      "Lenovo Group Ltd: LNVGF\n",
      "Unilever PLC: UL\n",
      "StarHub Ltd: SRHBF\n",
      "Orkla ASA: ORKLF\n",
      "AstraZeneca PLC: AZN\n",
      "Shinhan Financial Group Co Ltd: SHG\n",
      "SAP SE: SAP\n",
      "Canadian Solar Inc: CSIQ\n",
      "Nordea Bank Abp: NBNKF\n",
      "Kesko Oyj: KKOYY\n",
      "Henkel AG & Co KgaA: HENKY\n",
      "Ericsson: ERIC\n",
      "Alphabet Inc: GOOGL\n",
      "Teck Resources Ltd: TECK\n",
      "Industria de Diseno Textil SA: IDEXF\n",
      "Koninklijke KPN NV: KKPNF\n",
      "Byd Co Ltd: BYDDF\n",
      "Workday Inc: WDAY\n",
      "Maxim Integrated Products Inc: MXIM\n",
      "Tesla Inc: TSLA\n",
      "Novo Nordisk A/S: NVO\n",
      "Canadian Tire Corporation Ltd: CDNTF\n",
      "NVIDIA Corp: NVDA\n"
     ]
    }
   ],
   "source": [
    "global100_filepath = Path(\"data/global100_2021.csv\")\n",
    "global100_df = pd.read_csv(global100_filepath)\n",
    "\n",
    "global100_tickers = []\n",
    "for name in global100_df[\"Name\"].values:\n",
    "    result = get_matching_tickers(name)\n",
    "    if result is None:\n",
    "        global100_tickers.append(None)\n",
    "        print(f\"     !!{name}: Ticker not found\")\n",
    "    else:\n",
    "        ticker = result[\"symbol\"]\n",
    "        global100_tickers.append(ticker)\n",
    "        print(f\"{name}: {ticker}\")\n",
    "\n",
    "global100_df[\"Ticker\"] = global100_tickers\n",
    "\n",
    "# Export cleaned data to CSV\n",
    "global100_output_filepath = Path(\"data/global100_2021.csv\")\n",
    "global100_df.to_csv(global100_output_filepath, index=False)"
   ]
  },
  {
   "cell_type": "code",
   "execution_count": null,
   "metadata": {},
   "outputs": [],
   "source": []
  }
 ]
}